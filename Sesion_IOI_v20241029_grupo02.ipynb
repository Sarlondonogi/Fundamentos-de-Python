{
  "nbformat": 4,
  "nbformat_minor": 0,
  "metadata": {
    "colab": {
      "provenance": [],
      "toc_visible": true,
      "authorship_tag": "ABX9TyPg9LH3jB8XNuA343FoTqDr",
      "include_colab_link": true
    },
    "kernelspec": {
      "name": "python3",
      "display_name": "Python 3"
    },
    "language_info": {
      "name": "python"
    }
  },
  "cells": [
    {
      "cell_type": "markdown",
      "metadata": {
        "id": "view-in-github",
        "colab_type": "text"
      },
      "source": [
        "<a href=\"https://colab.research.google.com/github/gabrielawad/Fundamentos-de-Python/blob/main/Sesion_IOI_v20241029_grupo02.ipynb\" target=\"_parent\"><img src=\"https://colab.research.google.com/assets/colab-badge.svg\" alt=\"Open In Colab\"/></a>"
      ]
    },
    {
      "cell_type": "markdown",
      "source": [
        "# Ejercicios de Google Colab"
      ],
      "metadata": {
        "id": "mZMLgoZDcYuL"
      }
    },
    {
      "cell_type": "code",
      "execution_count": 1,
      "metadata": {
        "colab": {
          "base_uri": "https://localhost:8080/"
        },
        "id": "yiFbIqSfbjE8",
        "outputId": "b751667d-ed7f-4b48-8431-09d9f8cac2e6"
      },
      "outputs": [
        {
          "output_type": "stream",
          "name": "stdout",
          "text": [
            "Hola Mundo\n"
          ]
        }
      ],
      "source": [
        "# Escribir programa de prueba\n",
        "print(\"Hola Mundo\")"
      ]
    },
    {
      "cell_type": "markdown",
      "source": [
        "## Segundo ejemplo\n",
        "\n",
        "**Texto en negrilla**"
      ],
      "metadata": {
        "id": "zXq1lIxFcnFz"
      }
    },
    {
      "cell_type": "markdown",
      "source": [
        "### Un subtítulo\n"
      ],
      "metadata": {
        "id": "tJOOinlSc1Hy"
      }
    },
    {
      "cell_type": "code",
      "source": [
        "# Personalizar las casillas de código\n",
        "print(\"esto es una lista\")\n",
        "\n",
        "lista_0 = [\"a\", \"b\", \"c\"]\n",
        "\n",
        "# Mostrar lista\n",
        "print(lista_0)\n",
        "\n",
        "# Crear un ciclo for\n",
        "for i in lista_0:\n",
        "  print(i)\n",
        "\n",
        "# Comentario muy largo xxxxxxxxxxxxxxxxxxxxxxxxxxxxxxxxxxxxxxxxxxxxxxxxxxxxxxxxxxx\n",
        "#xxxxxxxxxxxxxxxx"
      ],
      "metadata": {
        "colab": {
          "base_uri": "https://localhost:8080/"
        },
        "id": "n8A03y8sdIS6",
        "outputId": "fb9cf515-314a-44c4-8e8a-e26f3a7e8c36"
      },
      "execution_count": 5,
      "outputs": [
        {
          "output_type": "stream",
          "name": "stdout",
          "text": [
            "esto es una lista\n",
            "['a', 'b', 'c']\n",
            "a\n",
            "b\n",
            "c\n"
          ]
        }
      ]
    }
  ]
}