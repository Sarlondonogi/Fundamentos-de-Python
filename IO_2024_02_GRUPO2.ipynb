{
  "nbformat": 4,
  "nbformat_minor": 0,
  "metadata": {
    "colab": {
      "provenance": [],
      "authorship_tag": "ABX9TyPPU8zUw1+Euzrkuxon4M1k",
      "include_colab_link": true
    },
    "kernelspec": {
      "name": "python3",
      "display_name": "Python 3"
    },
    "language_info": {
      "name": "python"
    }
  },
  "cells": [
    {
      "cell_type": "markdown",
      "metadata": {
        "id": "view-in-github",
        "colab_type": "text"
      },
      "source": [
        "<a href=\"https://colab.research.google.com/github/Sarlondonogi/Fundamentos-de-Python/blob/main/IO_2024_02_GRUPO2.ipynb\" target=\"_parent\"><img src=\"https://colab.research.google.com/assets/colab-badge.svg\" alt=\"Open In Colab\"/></a>"
      ]
    },
    {
      "cell_type": "markdown",
      "source": [
        "##Ejercicio de Google Colab"
      ],
      "metadata": {
        "id": "ZVrTq2vgcehV"
      }
    },
    {
      "cell_type": "code",
      "source": [
        "#Escribir programa\n",
        "print(\"Hola Mundo\")"
      ],
      "metadata": {
        "id": "F7XshaEPcL0d"
      },
      "execution_count": null,
      "outputs": []
    },
    {
      "cell_type": "code",
      "source": [
        "#Personalizar las casillas de código\n",
        "print(\"esto es una lista\")\n",
        "\n",
        "lista_0=[\"a\",\"b\",\"c\"]\n",
        "\n",
        "#Mostrar lista\n",
        "print(lista_0)\n",
        "\n",
        "#Crear un ciclo for\n",
        "for i in lista_0:\n",
        "  print(i)"
      ],
      "metadata": {
        "colab": {
          "base_uri": "https://localhost:8080/"
        },
        "id": "P5BHzmXHd7jd",
        "outputId": "67f8094f-1c38-440c-9ec5-79224031d821"
      },
      "execution_count": null,
      "outputs": [
        {
          "output_type": "stream",
          "name": "stdout",
          "text": [
            "esto es una lista\n",
            "['a', 'b', 'c']\n",
            "a\n",
            "b\n",
            "c\n"
          ]
        }
      ]
    }
  ]
}